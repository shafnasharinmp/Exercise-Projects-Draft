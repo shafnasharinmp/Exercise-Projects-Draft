{
  "nbformat": 4,
  "nbformat_minor": 0,
  "metadata": {
    "colab": {
      "provenance": []
    },
    "kernelspec": {
      "name": "python3",
      "display_name": "Python 3"
    },
    "language_info": {
      "name": "python"
    }
  },
  "cells": [
    {
      "cell_type": "markdown",
      "source": [
        "Eg8"
      ],
      "metadata": {
        "id": "UoADP0Bd02nv"
      }
    },
    {
      "cell_type": "markdown",
      "source": [
        "Write a function to compute sentence embeddings using a pre-trained BERT model from Hugging Face and calculate the similarity between two sentences given below.\n",
        "\"Generative AI or generative artificial intelligence refers to the use of AI to create new content, like text, images, music, audio, and videos.\"\n",
        "\"Generative AI is a type of artificial intelligence technology that can produce various types of content, including text, imagery, audio and synthetic data.\"**bold text**"
      ],
      "metadata": {
        "id": "RZ4QzJqq1KSv"
      }
    },
    {
      "cell_type": "code",
      "source": [
        "pip install transformers torch scipy"
      ],
      "metadata": {
        "colab": {
          "base_uri": "https://localhost:8080/"
        },
        "id": "Yh-IoR0Y1c3a",
        "outputId": "8d6ea339-b706-4578-acb2-9f63cdd0ff03"
      },
      "execution_count": 2,
      "outputs": [
        {
          "output_type": "stream",
          "name": "stdout",
          "text": [
            "Requirement already satisfied: transformers in /usr/local/lib/python3.10/dist-packages (4.44.2)\n",
            "Requirement already satisfied: torch in /usr/local/lib/python3.10/dist-packages (2.4.0+cu121)\n",
            "Requirement already satisfied: scipy in /usr/local/lib/python3.10/dist-packages (1.13.1)\n",
            "Requirement already satisfied: filelock in /usr/local/lib/python3.10/dist-packages (from transformers) (3.15.4)\n",
            "Requirement already satisfied: huggingface-hub<1.0,>=0.23.2 in /usr/local/lib/python3.10/dist-packages (from transformers) (0.24.6)\n",
            "Requirement already satisfied: numpy>=1.17 in /usr/local/lib/python3.10/dist-packages (from transformers) (1.26.4)\n",
            "Requirement already satisfied: packaging>=20.0 in /usr/local/lib/python3.10/dist-packages (from transformers) (24.1)\n",
            "Requirement already satisfied: pyyaml>=5.1 in /usr/local/lib/python3.10/dist-packages (from transformers) (6.0.2)\n",
            "Requirement already satisfied: regex!=2019.12.17 in /usr/local/lib/python3.10/dist-packages (from transformers) (2024.5.15)\n",
            "Requirement already satisfied: requests in /usr/local/lib/python3.10/dist-packages (from transformers) (2.32.3)\n",
            "Requirement already satisfied: safetensors>=0.4.1 in /usr/local/lib/python3.10/dist-packages (from transformers) (0.4.4)\n",
            "Requirement already satisfied: tokenizers<0.20,>=0.19 in /usr/local/lib/python3.10/dist-packages (from transformers) (0.19.1)\n",
            "Requirement already satisfied: tqdm>=4.27 in /usr/local/lib/python3.10/dist-packages (from transformers) (4.66.5)\n",
            "Requirement already satisfied: typing-extensions>=4.8.0 in /usr/local/lib/python3.10/dist-packages (from torch) (4.12.2)\n",
            "Requirement already satisfied: sympy in /usr/local/lib/python3.10/dist-packages (from torch) (1.13.2)\n",
            "Requirement already satisfied: networkx in /usr/local/lib/python3.10/dist-packages (from torch) (3.3)\n",
            "Requirement already satisfied: jinja2 in /usr/local/lib/python3.10/dist-packages (from torch) (3.1.4)\n",
            "Requirement already satisfied: fsspec in /usr/local/lib/python3.10/dist-packages (from torch) (2024.6.1)\n",
            "Requirement already satisfied: MarkupSafe>=2.0 in /usr/local/lib/python3.10/dist-packages (from jinja2->torch) (2.1.5)\n",
            "Requirement already satisfied: charset-normalizer<4,>=2 in /usr/local/lib/python3.10/dist-packages (from requests->transformers) (3.3.2)\n",
            "Requirement already satisfied: idna<4,>=2.5 in /usr/local/lib/python3.10/dist-packages (from requests->transformers) (3.8)\n",
            "Requirement already satisfied: urllib3<3,>=1.21.1 in /usr/local/lib/python3.10/dist-packages (from requests->transformers) (2.0.7)\n",
            "Requirement already satisfied: certifi>=2017.4.17 in /usr/local/lib/python3.10/dist-packages (from requests->transformers) (2024.8.30)\n",
            "Requirement already satisfied: mpmath<1.4,>=1.1.0 in /usr/local/lib/python3.10/dist-packages (from sympy->torch) (1.3.0)\n"
          ]
        }
      ]
    },
    {
      "cell_type": "code",
      "execution_count": 4,
      "metadata": {
        "colab": {
          "base_uri": "https://localhost:8080/"
        },
        "id": "vq1JauX9t8qN",
        "outputId": "269090f7-62cc-4d7d-b004-fd8a97924b1d"
      },
      "outputs": [
        {
          "output_type": "stream",
          "name": "stdout",
          "text": [
            "Cosine Similarity between the two sentences: 0.8916\n"
          ]
        }
      ],
      "source": [
        "from transformers import BertTokenizer, BertModel\n",
        "import torch\n",
        "from scipy.spatial.distance import cosine\n",
        "\n",
        "def get_sentence_embedding(sentence, model, tokenizer):\n",
        "    inputs = tokenizer(sentence, return_tensors='pt', truncation=True, padding=True, max_length=512)\n",
        "\n",
        "    with torch.no_grad():\n",
        "        outputs = model(**inputs)\n",
        "\n",
        "    sentence_embedding = outputs.last_hidden_state[:, 0, :]\n",
        "    return sentence_embedding.squeeze().numpy()\n",
        "\n",
        "def cosine_similarity(embedding1, embedding2):\n",
        "    return 1 - cosine(embedding1, embedding2)\n",
        "\n",
        "tokenizer = BertTokenizer.from_pretrained('bert-base-uncased')\n",
        "model = BertModel.from_pretrained('bert-base-uncased')\n",
        "\n",
        "sentence1 = \"Generative AI or generative artificial intelligence refers to the use of AI to create new content, like text, images, music, audio, and videos.\"\n",
        "sentence2 = \"Generative AI is a type of artificial intelligence technology that can produce various types of content, including text, imagery, audio and synthetic data.\"\n",
        "\n",
        "embedding1 = get_sentence_embedding(sentence1, model, tokenizer)\n",
        "embedding2 = get_sentence_embedding(sentence2, model, tokenizer)\n",
        "\n",
        "similarity = cosine_similarity(embedding1, embedding2)\n",
        "print(f\"Cosine Similarity between the two sentences: {similarity:.4f}\")"
      ]
    },
    {
      "cell_type": "markdown",
      "source": [
        "Easy"
      ],
      "metadata": {
        "id": "z1cjDNEy2_qJ"
      }
    },
    {
      "cell_type": "code",
      "source": [
        "from transformers import BertTokenizer, BertModel\n",
        "import torch\n",
        "from scipy.spatial.distance import cosine\n",
        "\n",
        "def compute_sentence_embedding(sentence, model, tokenizer):\n",
        "    inputs = tokenizer(sentence, return_tensors='pt', truncation=True, padding=True)\n",
        "    outputs = model(**inputs)\n",
        "    cls_embedding = outputs.last_hidden_state[:, 0, :].squeeze()\n",
        "    return cls_embedding\n",
        "\n",
        "def calculate_similarity(sentence1, sentence2):\n",
        "    model_name = 'bert-base-uncased'\n",
        "    tokenizer = BertTokenizer.from_pretrained(model_name)\n",
        "    model = BertModel.from_pretrained(model_name)\n",
        "\n",
        "    embedding1 = compute_sentence_embedding(sentence1, model, tokenizer)\n",
        "    embedding2 = compute_sentence_embedding(sentence2, model, tokenizer)\n",
        "\n",
        "    similarity = 1 - cosine(embedding1.detach().numpy(), embedding2.detach().numpy())\n",
        "    return similarity\n",
        "\n",
        "\n",
        "sentence1 = \"Generative AI or generative artificial intelligence refers to the use of AI to create new content, like text, images, music, audio, and videos.\"\n",
        "sentence2 = \"Generative AI is a type of artificial intelligence technology that can produce various types of content, including text, imagery, audio and synthetic data.\"\n",
        "\n",
        "similarity_score = calculate_similarity(sentence1, sentence2)\n",
        "print(f\"Similarity score: {similarity_score}\")"
      ],
      "metadata": {
        "colab": {
          "base_uri": "https://localhost:8080/"
        },
        "id": "LWP8yOEv1xzq",
        "outputId": "595a6929-06c5-40ef-8e09-a7874444183c"
      },
      "execution_count": 3,
      "outputs": [
        {
          "output_type": "stream",
          "name": "stdout",
          "text": [
            "Similarity score: 0.8915842421848057\n"
          ]
        }
      ]
    },
    {
      "cell_type": "markdown",
      "source": [
        "END"
      ],
      "metadata": {
        "id": "jGdZT-am2g2P"
      }
    }
  ]
}