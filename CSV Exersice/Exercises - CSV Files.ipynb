{
  "nbformat": 4,
  "nbformat_minor": 0,
  "metadata": {
    "colab": {
      "provenance": []
    },
    "kernelspec": {
      "name": "python3",
      "display_name": "Python 3"
    },
    "language_info": {
      "name": "python"
    }
  },
  "cells": [
    {
      "cell_type": "markdown",
      "source": [
        "**Eg7**"
      ],
      "metadata": {
        "id": "DWMYT2V2t8_d"
      }
    },
    {
      "cell_type": "markdown",
      "source": [
        "Step 1. Import files titles.csv and cast.csv, also the necessary libraries to perform the following"
      ],
      "metadata": {
        "id": "hE3IA4E1uoKS"
      }
    },
    {
      "cell_type": "code",
      "source": [
        "import pandas as pd\n",
        "import numpy as np\n",
        "\n",
        "titles = pd.read_csv('titles.csv')\n",
        "cast = pd.read_csv('cast.csv')\n",
        "print(\"titles.csv :\")\n",
        "print(titles)\n",
        "print(titles.shape)\n",
        "print(\"__________________________________________________________________________\")\n",
        "print(\"cast.csv :\")\n",
        "print(cast)\n",
        "print(cast.shape)"
      ],
      "metadata": {
        "colab": {
          "base_uri": "https://localhost:8080/"
        },
        "id": "b1y2MxYOuLAR",
        "outputId": "8e776bf8-7bb2-4231-9a11-56f7363ab6b0"
      },
      "execution_count": 19,
      "outputs": [
        {
          "output_type": "stream",
          "name": "stdout",
          "text": [
            "titles.csv :\n",
            "                   Title  Year\n",
            "0  Tomorrow Ends at Dawn  2002\n",
            "1   Brothers of the West  1937\n",
            "2                   Nemo  1984\n",
            "3                Pereezd  2014\n",
            "4       Bad for Business  2007\n",
            "5              Inception  2010\n",
            "(6, 2)\n",
            "__________________________________________________________________________\n",
            "cast.csv :\n",
            "                  title  year      name   type                character     n\n",
            "0        Closet Monster  2015  Buffy #1  actor                  Buffy 4  31.0\n",
            "1       Suuri illusioni  1985    Homo $  actor                   Guests  22.0\n",
            "2   Battle of the Sexes  2017   $hutter  actor          Bobby Riggs Fan  10.0\n",
            "3  Secret in Their Eyes  2015   $hutter  actor          2002 Dodger Fan   NaN\n",
            "4            Steve Jobs  2015   $hutter  actor  1988 Opera House Patron   NaN\n",
            "(5, 6)\n"
          ]
        }
      ]
    },
    {
      "cell_type": "markdown",
      "source": [
        "Q1.How many movies are listed in the titles dataframe?\n"
      ],
      "metadata": {
        "id": "cr0EfP6nuMUO"
      }
    },
    {
      "cell_type": "code",
      "source": [
        "num_movies = len(titles)\n",
        "print(f\"Number of movies listed: {num_movies}\")\n",
        "#To find unique movies\n",
        "total_movies = titles['Title'].nunique()\n",
        "print(f\"Total number of movies: {total_movies}\")"
      ],
      "metadata": {
        "colab": {
          "base_uri": "https://localhost:8080/"
        },
        "id": "mJl608lwuK8y",
        "outputId": "d68fb278-100a-47f6-8b8f-1d20e4528dd8"
      },
      "execution_count": 20,
      "outputs": [
        {
          "output_type": "stream",
          "name": "stdout",
          "text": [
            "Number of movies listed: 6\n",
            "Total number of movies: 6\n"
          ]
        }
      ]
    },
    {
      "cell_type": "markdown",
      "source": [
        "Q2. What are the earliest two films listed in the titles dataframe?"
      ],
      "metadata": {
        "id": "6oz6rX3GuOwl"
      }
    },
    {
      "cell_type": "code",
      "source": [
        "earliest_two_films = titles.sort_values('Year').head(2)\n",
        "print(\"Earliest two films:\\n\", earliest_two_films)"
      ],
      "metadata": {
        "colab": {
          "base_uri": "https://localhost:8080/"
        },
        "id": "MPIaq836uK3u",
        "outputId": "ddd6f7e2-96a5-4453-91d7-b47de1c674ad"
      },
      "execution_count": 23,
      "outputs": [
        {
          "output_type": "stream",
          "name": "stdout",
          "text": [
            "Earliest two films:\n",
            "                   Title  Year\n",
            "1  Brothers of the West  1937\n",
            "2                  Nemo  1984\n"
          ]
        }
      ]
    },
    {
      "cell_type": "markdown",
      "source": [
        "Q3. How many movies were made from 1950 through 1959?\n",
        "Step 2. Import the file chipotle.csv and also the necessary libraries to perform the following\n",
        "Step 3. Assign it to a variable called chipo.\n"
      ],
      "metadata": {
        "id": "brmhFK_buREl"
      }
    },
    {
      "cell_type": "code",
      "source": [
        "movies_1950s = titles[(titles['Year'] >= 1950) & (titles['Year'] <= 1959)]\n",
        "num_movies_1950s = len(movies_1950s)\n",
        "print(f\"Number of movies made from 1950 through 1959: {num_movies_1950s}\")"
      ],
      "metadata": {
        "colab": {
          "base_uri": "https://localhost:8080/"
        },
        "id": "AdGeTGVOuUDr",
        "outputId": "68c45764-dfe6-432e-da30-f4f3c4c4fde9"
      },
      "execution_count": 26,
      "outputs": [
        {
          "output_type": "stream",
          "name": "stdout",
          "text": [
            "Number of movies made from 1950 through 1959: 0\n"
          ]
        }
      ]
    },
    {
      "cell_type": "markdown",
      "source": [
        "Step 2. Import the file chipotle.csv and also the necessary libraries to perform the following\n",
        "\n",
        "Step 3. Assign it to a variable called chipo."
      ],
      "metadata": {
        "id": "fNqzAR5px9vX"
      }
    },
    {
      "cell_type": "code",
      "source": [
        "import pandas as pd\n",
        "\n",
        "chipo = pd.read_csv('chipotle.csv')\n",
        "chipo"
      ],
      "metadata": {
        "colab": {
          "base_uri": "https://localhost:8080/",
          "height": 423
        },
        "id": "_U8o6WNJx-30",
        "outputId": "97681067-5a6b-40f9-cda4-0739d1b485d6"
      },
      "execution_count": 29,
      "outputs": [
        {
          "output_type": "execute_result",
          "data": {
            "text/plain": [
              "      order_id  quantity                              item_name  \\\n",
              "0            1         1           Chips and Fresh Tomato Salsa   \n",
              "1            1         1                                   Izze   \n",
              "2            1         1                       Nantucket Nectar   \n",
              "3            1         1  Chips and Tomatillo-Green Chili Salsa   \n",
              "4            2         2                           Chicken Bowl   \n",
              "...        ...       ...                                    ...   \n",
              "4617      1833         1                          Steak Burrito   \n",
              "4618      1833         1                          Steak Burrito   \n",
              "4619      1834         1                     Chicken Salad Bowl   \n",
              "4620      1834         1                     Chicken Salad Bowl   \n",
              "4621      1834         1                     Chicken Salad Bowl   \n",
              "\n",
              "                                     choice_description item_price  \n",
              "0                                                   NaN     $2.39   \n",
              "1                                          [Clementine]     $3.39   \n",
              "2                                               [Apple]     $3.39   \n",
              "3                                                   NaN     $2.39   \n",
              "4     [Tomatillo-Red Chili Salsa (Hot), [Black Beans...    $16.98   \n",
              "...                                                 ...        ...  \n",
              "4617  [Fresh Tomato Salsa, [Rice, Black Beans, Sour ...    $11.75   \n",
              "4618  [Fresh Tomato Salsa, [Rice, Sour Cream, Cheese...    $11.75   \n",
              "4619  [Fresh Tomato Salsa, [Fajita Vegetables, Pinto...    $11.25   \n",
              "4620  [Fresh Tomato Salsa, [Fajita Vegetables, Lettu...     $8.75   \n",
              "4621  [Fresh Tomato Salsa, [Fajita Vegetables, Pinto...     $8.75   \n",
              "\n",
              "[4622 rows x 5 columns]"
            ],
            "text/html": [
              "\n",
              "  <div id=\"df-31b9dea0-a588-403e-8c94-3d02c8e44811\" class=\"colab-df-container\">\n",
              "    <div>\n",
              "<style scoped>\n",
              "    .dataframe tbody tr th:only-of-type {\n",
              "        vertical-align: middle;\n",
              "    }\n",
              "\n",
              "    .dataframe tbody tr th {\n",
              "        vertical-align: top;\n",
              "    }\n",
              "\n",
              "    .dataframe thead th {\n",
              "        text-align: right;\n",
              "    }\n",
              "</style>\n",
              "<table border=\"1\" class=\"dataframe\">\n",
              "  <thead>\n",
              "    <tr style=\"text-align: right;\">\n",
              "      <th></th>\n",
              "      <th>order_id</th>\n",
              "      <th>quantity</th>\n",
              "      <th>item_name</th>\n",
              "      <th>choice_description</th>\n",
              "      <th>item_price</th>\n",
              "    </tr>\n",
              "  </thead>\n",
              "  <tbody>\n",
              "    <tr>\n",
              "      <th>0</th>\n",
              "      <td>1</td>\n",
              "      <td>1</td>\n",
              "      <td>Chips and Fresh Tomato Salsa</td>\n",
              "      <td>NaN</td>\n",
              "      <td>$2.39</td>\n",
              "    </tr>\n",
              "    <tr>\n",
              "      <th>1</th>\n",
              "      <td>1</td>\n",
              "      <td>1</td>\n",
              "      <td>Izze</td>\n",
              "      <td>[Clementine]</td>\n",
              "      <td>$3.39</td>\n",
              "    </tr>\n",
              "    <tr>\n",
              "      <th>2</th>\n",
              "      <td>1</td>\n",
              "      <td>1</td>\n",
              "      <td>Nantucket Nectar</td>\n",
              "      <td>[Apple]</td>\n",
              "      <td>$3.39</td>\n",
              "    </tr>\n",
              "    <tr>\n",
              "      <th>3</th>\n",
              "      <td>1</td>\n",
              "      <td>1</td>\n",
              "      <td>Chips and Tomatillo-Green Chili Salsa</td>\n",
              "      <td>NaN</td>\n",
              "      <td>$2.39</td>\n",
              "    </tr>\n",
              "    <tr>\n",
              "      <th>4</th>\n",
              "      <td>2</td>\n",
              "      <td>2</td>\n",
              "      <td>Chicken Bowl</td>\n",
              "      <td>[Tomatillo-Red Chili Salsa (Hot), [Black Beans...</td>\n",
              "      <td>$16.98</td>\n",
              "    </tr>\n",
              "    <tr>\n",
              "      <th>...</th>\n",
              "      <td>...</td>\n",
              "      <td>...</td>\n",
              "      <td>...</td>\n",
              "      <td>...</td>\n",
              "      <td>...</td>\n",
              "    </tr>\n",
              "    <tr>\n",
              "      <th>4617</th>\n",
              "      <td>1833</td>\n",
              "      <td>1</td>\n",
              "      <td>Steak Burrito</td>\n",
              "      <td>[Fresh Tomato Salsa, [Rice, Black Beans, Sour ...</td>\n",
              "      <td>$11.75</td>\n",
              "    </tr>\n",
              "    <tr>\n",
              "      <th>4618</th>\n",
              "      <td>1833</td>\n",
              "      <td>1</td>\n",
              "      <td>Steak Burrito</td>\n",
              "      <td>[Fresh Tomato Salsa, [Rice, Sour Cream, Cheese...</td>\n",
              "      <td>$11.75</td>\n",
              "    </tr>\n",
              "    <tr>\n",
              "      <th>4619</th>\n",
              "      <td>1834</td>\n",
              "      <td>1</td>\n",
              "      <td>Chicken Salad Bowl</td>\n",
              "      <td>[Fresh Tomato Salsa, [Fajita Vegetables, Pinto...</td>\n",
              "      <td>$11.25</td>\n",
              "    </tr>\n",
              "    <tr>\n",
              "      <th>4620</th>\n",
              "      <td>1834</td>\n",
              "      <td>1</td>\n",
              "      <td>Chicken Salad Bowl</td>\n",
              "      <td>[Fresh Tomato Salsa, [Fajita Vegetables, Lettu...</td>\n",
              "      <td>$8.75</td>\n",
              "    </tr>\n",
              "    <tr>\n",
              "      <th>4621</th>\n",
              "      <td>1834</td>\n",
              "      <td>1</td>\n",
              "      <td>Chicken Salad Bowl</td>\n",
              "      <td>[Fresh Tomato Salsa, [Fajita Vegetables, Pinto...</td>\n",
              "      <td>$8.75</td>\n",
              "    </tr>\n",
              "  </tbody>\n",
              "</table>\n",
              "<p>4622 rows × 5 columns</p>\n",
              "</div>\n",
              "    <div class=\"colab-df-buttons\">\n",
              "\n",
              "  <div class=\"colab-df-container\">\n",
              "    <button class=\"colab-df-convert\" onclick=\"convertToInteractive('df-31b9dea0-a588-403e-8c94-3d02c8e44811')\"\n",
              "            title=\"Convert this dataframe to an interactive table.\"\n",
              "            style=\"display:none;\">\n",
              "\n",
              "  <svg xmlns=\"http://www.w3.org/2000/svg\" height=\"24px\" viewBox=\"0 -960 960 960\">\n",
              "    <path d=\"M120-120v-720h720v720H120Zm60-500h600v-160H180v160Zm220 220h160v-160H400v160Zm0 220h160v-160H400v160ZM180-400h160v-160H180v160Zm440 0h160v-160H620v160ZM180-180h160v-160H180v160Zm440 0h160v-160H620v160Z\"/>\n",
              "  </svg>\n",
              "    </button>\n",
              "\n",
              "  <style>\n",
              "    .colab-df-container {\n",
              "      display:flex;\n",
              "      gap: 12px;\n",
              "    }\n",
              "\n",
              "    .colab-df-convert {\n",
              "      background-color: #E8F0FE;\n",
              "      border: none;\n",
              "      border-radius: 50%;\n",
              "      cursor: pointer;\n",
              "      display: none;\n",
              "      fill: #1967D2;\n",
              "      height: 32px;\n",
              "      padding: 0 0 0 0;\n",
              "      width: 32px;\n",
              "    }\n",
              "\n",
              "    .colab-df-convert:hover {\n",
              "      background-color: #E2EBFA;\n",
              "      box-shadow: 0px 1px 2px rgba(60, 64, 67, 0.3), 0px 1px 3px 1px rgba(60, 64, 67, 0.15);\n",
              "      fill: #174EA6;\n",
              "    }\n",
              "\n",
              "    .colab-df-buttons div {\n",
              "      margin-bottom: 4px;\n",
              "    }\n",
              "\n",
              "    [theme=dark] .colab-df-convert {\n",
              "      background-color: #3B4455;\n",
              "      fill: #D2E3FC;\n",
              "    }\n",
              "\n",
              "    [theme=dark] .colab-df-convert:hover {\n",
              "      background-color: #434B5C;\n",
              "      box-shadow: 0px 1px 3px 1px rgba(0, 0, 0, 0.15);\n",
              "      filter: drop-shadow(0px 1px 2px rgba(0, 0, 0, 0.3));\n",
              "      fill: #FFFFFF;\n",
              "    }\n",
              "  </style>\n",
              "\n",
              "    <script>\n",
              "      const buttonEl =\n",
              "        document.querySelector('#df-31b9dea0-a588-403e-8c94-3d02c8e44811 button.colab-df-convert');\n",
              "      buttonEl.style.display =\n",
              "        google.colab.kernel.accessAllowed ? 'block' : 'none';\n",
              "\n",
              "      async function convertToInteractive(key) {\n",
              "        const element = document.querySelector('#df-31b9dea0-a588-403e-8c94-3d02c8e44811');\n",
              "        const dataTable =\n",
              "          await google.colab.kernel.invokeFunction('convertToInteractive',\n",
              "                                                    [key], {});\n",
              "        if (!dataTable) return;\n",
              "\n",
              "        const docLinkHtml = 'Like what you see? Visit the ' +\n",
              "          '<a target=\"_blank\" href=https://colab.research.google.com/notebooks/data_table.ipynb>data table notebook</a>'\n",
              "          + ' to learn more about interactive tables.';\n",
              "        element.innerHTML = '';\n",
              "        dataTable['output_type'] = 'display_data';\n",
              "        await google.colab.output.renderOutput(dataTable, element);\n",
              "        const docLink = document.createElement('div');\n",
              "        docLink.innerHTML = docLinkHtml;\n",
              "        element.appendChild(docLink);\n",
              "      }\n",
              "    </script>\n",
              "  </div>\n",
              "\n",
              "\n",
              "<div id=\"df-3c0a4d3f-ccba-4891-9a6c-f7022075fdc1\">\n",
              "  <button class=\"colab-df-quickchart\" onclick=\"quickchart('df-3c0a4d3f-ccba-4891-9a6c-f7022075fdc1')\"\n",
              "            title=\"Suggest charts\"\n",
              "            style=\"display:none;\">\n",
              "\n",
              "<svg xmlns=\"http://www.w3.org/2000/svg\" height=\"24px\"viewBox=\"0 0 24 24\"\n",
              "     width=\"24px\">\n",
              "    <g>\n",
              "        <path d=\"M19 3H5c-1.1 0-2 .9-2 2v14c0 1.1.9 2 2 2h14c1.1 0 2-.9 2-2V5c0-1.1-.9-2-2-2zM9 17H7v-7h2v7zm4 0h-2V7h2v10zm4 0h-2v-4h2v4z\"/>\n",
              "    </g>\n",
              "</svg>\n",
              "  </button>\n",
              "\n",
              "<style>\n",
              "  .colab-df-quickchart {\n",
              "      --bg-color: #E8F0FE;\n",
              "      --fill-color: #1967D2;\n",
              "      --hover-bg-color: #E2EBFA;\n",
              "      --hover-fill-color: #174EA6;\n",
              "      --disabled-fill-color: #AAA;\n",
              "      --disabled-bg-color: #DDD;\n",
              "  }\n",
              "\n",
              "  [theme=dark] .colab-df-quickchart {\n",
              "      --bg-color: #3B4455;\n",
              "      --fill-color: #D2E3FC;\n",
              "      --hover-bg-color: #434B5C;\n",
              "      --hover-fill-color: #FFFFFF;\n",
              "      --disabled-bg-color: #3B4455;\n",
              "      --disabled-fill-color: #666;\n",
              "  }\n",
              "\n",
              "  .colab-df-quickchart {\n",
              "    background-color: var(--bg-color);\n",
              "    border: none;\n",
              "    border-radius: 50%;\n",
              "    cursor: pointer;\n",
              "    display: none;\n",
              "    fill: var(--fill-color);\n",
              "    height: 32px;\n",
              "    padding: 0;\n",
              "    width: 32px;\n",
              "  }\n",
              "\n",
              "  .colab-df-quickchart:hover {\n",
              "    background-color: var(--hover-bg-color);\n",
              "    box-shadow: 0 1px 2px rgba(60, 64, 67, 0.3), 0 1px 3px 1px rgba(60, 64, 67, 0.15);\n",
              "    fill: var(--button-hover-fill-color);\n",
              "  }\n",
              "\n",
              "  .colab-df-quickchart-complete:disabled,\n",
              "  .colab-df-quickchart-complete:disabled:hover {\n",
              "    background-color: var(--disabled-bg-color);\n",
              "    fill: var(--disabled-fill-color);\n",
              "    box-shadow: none;\n",
              "  }\n",
              "\n",
              "  .colab-df-spinner {\n",
              "    border: 2px solid var(--fill-color);\n",
              "    border-color: transparent;\n",
              "    border-bottom-color: var(--fill-color);\n",
              "    animation:\n",
              "      spin 1s steps(1) infinite;\n",
              "  }\n",
              "\n",
              "  @keyframes spin {\n",
              "    0% {\n",
              "      border-color: transparent;\n",
              "      border-bottom-color: var(--fill-color);\n",
              "      border-left-color: var(--fill-color);\n",
              "    }\n",
              "    20% {\n",
              "      border-color: transparent;\n",
              "      border-left-color: var(--fill-color);\n",
              "      border-top-color: var(--fill-color);\n",
              "    }\n",
              "    30% {\n",
              "      border-color: transparent;\n",
              "      border-left-color: var(--fill-color);\n",
              "      border-top-color: var(--fill-color);\n",
              "      border-right-color: var(--fill-color);\n",
              "    }\n",
              "    40% {\n",
              "      border-color: transparent;\n",
              "      border-right-color: var(--fill-color);\n",
              "      border-top-color: var(--fill-color);\n",
              "    }\n",
              "    60% {\n",
              "      border-color: transparent;\n",
              "      border-right-color: var(--fill-color);\n",
              "    }\n",
              "    80% {\n",
              "      border-color: transparent;\n",
              "      border-right-color: var(--fill-color);\n",
              "      border-bottom-color: var(--fill-color);\n",
              "    }\n",
              "    90% {\n",
              "      border-color: transparent;\n",
              "      border-bottom-color: var(--fill-color);\n",
              "    }\n",
              "  }\n",
              "</style>\n",
              "\n",
              "  <script>\n",
              "    async function quickchart(key) {\n",
              "      const quickchartButtonEl =\n",
              "        document.querySelector('#' + key + ' button');\n",
              "      quickchartButtonEl.disabled = true;  // To prevent multiple clicks.\n",
              "      quickchartButtonEl.classList.add('colab-df-spinner');\n",
              "      try {\n",
              "        const charts = await google.colab.kernel.invokeFunction(\n",
              "            'suggestCharts', [key], {});\n",
              "      } catch (error) {\n",
              "        console.error('Error during call to suggestCharts:', error);\n",
              "      }\n",
              "      quickchartButtonEl.classList.remove('colab-df-spinner');\n",
              "      quickchartButtonEl.classList.add('colab-df-quickchart-complete');\n",
              "    }\n",
              "    (() => {\n",
              "      let quickchartButtonEl =\n",
              "        document.querySelector('#df-3c0a4d3f-ccba-4891-9a6c-f7022075fdc1 button');\n",
              "      quickchartButtonEl.style.display =\n",
              "        google.colab.kernel.accessAllowed ? 'block' : 'none';\n",
              "    })();\n",
              "  </script>\n",
              "</div>\n",
              "\n",
              "  <div id=\"id_30cde392-b4dd-4aa0-b9b7-d7a99dc075b8\">\n",
              "    <style>\n",
              "      .colab-df-generate {\n",
              "        background-color: #E8F0FE;\n",
              "        border: none;\n",
              "        border-radius: 50%;\n",
              "        cursor: pointer;\n",
              "        display: none;\n",
              "        fill: #1967D2;\n",
              "        height: 32px;\n",
              "        padding: 0 0 0 0;\n",
              "        width: 32px;\n",
              "      }\n",
              "\n",
              "      .colab-df-generate:hover {\n",
              "        background-color: #E2EBFA;\n",
              "        box-shadow: 0px 1px 2px rgba(60, 64, 67, 0.3), 0px 1px 3px 1px rgba(60, 64, 67, 0.15);\n",
              "        fill: #174EA6;\n",
              "      }\n",
              "\n",
              "      [theme=dark] .colab-df-generate {\n",
              "        background-color: #3B4455;\n",
              "        fill: #D2E3FC;\n",
              "      }\n",
              "\n",
              "      [theme=dark] .colab-df-generate:hover {\n",
              "        background-color: #434B5C;\n",
              "        box-shadow: 0px 1px 3px 1px rgba(0, 0, 0, 0.15);\n",
              "        filter: drop-shadow(0px 1px 2px rgba(0, 0, 0, 0.3));\n",
              "        fill: #FFFFFF;\n",
              "      }\n",
              "    </style>\n",
              "    <button class=\"colab-df-generate\" onclick=\"generateWithVariable('chipo')\"\n",
              "            title=\"Generate code using this dataframe.\"\n",
              "            style=\"display:none;\">\n",
              "\n",
              "  <svg xmlns=\"http://www.w3.org/2000/svg\" height=\"24px\"viewBox=\"0 0 24 24\"\n",
              "       width=\"24px\">\n",
              "    <path d=\"M7,19H8.4L18.45,9,17,7.55,7,17.6ZM5,21V16.75L18.45,3.32a2,2,0,0,1,2.83,0l1.4,1.43a1.91,1.91,0,0,1,.58,1.4,1.91,1.91,0,0,1-.58,1.4L9.25,21ZM18.45,9,17,7.55Zm-12,3A5.31,5.31,0,0,0,4.9,8.1,5.31,5.31,0,0,0,1,6.5,5.31,5.31,0,0,0,4.9,4.9,5.31,5.31,0,0,0,6.5,1,5.31,5.31,0,0,0,8.1,4.9,5.31,5.31,0,0,0,12,6.5,5.46,5.46,0,0,0,6.5,12Z\"/>\n",
              "  </svg>\n",
              "    </button>\n",
              "    <script>\n",
              "      (() => {\n",
              "      const buttonEl =\n",
              "        document.querySelector('#id_30cde392-b4dd-4aa0-b9b7-d7a99dc075b8 button.colab-df-generate');\n",
              "      buttonEl.style.display =\n",
              "        google.colab.kernel.accessAllowed ? 'block' : 'none';\n",
              "\n",
              "      buttonEl.onclick = () => {\n",
              "        google.colab.notebook.generateWithVariable('chipo');\n",
              "      }\n",
              "      })();\n",
              "    </script>\n",
              "  </div>\n",
              "\n",
              "    </div>\n",
              "  </div>\n"
            ],
            "application/vnd.google.colaboratory.intrinsic+json": {
              "type": "dataframe",
              "variable_name": "chipo",
              "summary": "{\n  \"name\": \"chipo\",\n  \"rows\": 4622,\n  \"fields\": [\n    {\n      \"column\": \"order_id\",\n      \"properties\": {\n        \"dtype\": \"number\",\n        \"std\": 528,\n        \"min\": 1,\n        \"max\": 1834,\n        \"num_unique_values\": 1834,\n        \"samples\": [\n          644,\n          333,\n          991\n        ],\n        \"semantic_type\": \"\",\n        \"description\": \"\"\n      }\n    },\n    {\n      \"column\": \"quantity\",\n      \"properties\": {\n        \"dtype\": \"number\",\n        \"std\": 0,\n        \"min\": 1,\n        \"max\": 15,\n        \"num_unique_values\": 9,\n        \"samples\": [\n          8,\n          2,\n          15\n        ],\n        \"semantic_type\": \"\",\n        \"description\": \"\"\n      }\n    },\n    {\n      \"column\": \"item_name\",\n      \"properties\": {\n        \"dtype\": \"category\",\n        \"num_unique_values\": 50,\n        \"samples\": [\n          \"Barbacoa Burrito\",\n          \"Crispy Tacos\",\n          \"Chips and Roasted Chili Corn Salsa\"\n        ],\n        \"semantic_type\": \"\",\n        \"description\": \"\"\n      }\n    },\n    {\n      \"column\": \"choice_description\",\n      \"properties\": {\n        \"dtype\": \"category\",\n        \"num_unique_values\": 1043,\n        \"samples\": [\n          \"[Roasted Chili Corn Salsa, [Black Beans, Sour Cream, Cheese, Guacamole]]\",\n          \"[Tomatillo Red Chili Salsa, [Guacamole, Cheese]]\",\n          \"[Fresh Tomato Salsa, [Rice, Cheese, Sour Cream, Guacamole, Lettuce]]\"\n        ],\n        \"semantic_type\": \"\",\n        \"description\": \"\"\n      }\n    },\n    {\n      \"column\": \"item_price\",\n      \"properties\": {\n        \"dtype\": \"category\",\n        \"num_unique_values\": 78,\n        \"samples\": [\n          \"$23.50 \",\n          \"$2.39 \",\n          \"$7.40 \"\n        ],\n        \"semantic_type\": \"\",\n        \"description\": \"\"\n      }\n    }\n  ]\n}"
            }
          },
          "metadata": {},
          "execution_count": 29
        }
      ]
    },
    {
      "cell_type": "markdown",
      "source": [
        "Q4.Create a scatterplot with the number of items orderered per order price\n"
      ],
      "metadata": {
        "id": "_gK6dFXIuTBa"
      }
    },
    {
      "cell_type": "code",
      "source": [
        "import seaborn as sns\n",
        "order_summary = chipo.groupby('order_id').agg({'quantity': 'sum', 'item_price': 'sum'})\n",
        "\n",
        "\n",
        "plt.figure(figsize=(10,6))\n",
        "sns.scatterplot(x='item_price', y='quantity', data=order_summary)\n",
        "plt.title(\"Scatterplot of Number of Items Ordered per Order Price\")\n",
        "plt.xlabel(\"Order Price ($)\")\n",
        "plt.ylabel(\"Number of Items Ordered\")\n",
        "plt.show()"
      ],
      "metadata": {
        "colab": {
          "base_uri": "https://localhost:8080/",
          "height": 564
        },
        "id": "TMd-ChNzzQOb",
        "outputId": "2222f8b7-3d63-4f56-b487-fb734a3ad457"
      },
      "execution_count": 33,
      "outputs": [
        {
          "output_type": "display_data",
          "data": {
            "text/plain": [
              "<Figure size 1000x600 with 1 Axes>"
            ],
            "image/png": "[encoded data removed]"
          },
          "metadata": {}
        }
      ]
    },
    {
      "cell_type": "code",
      "source": [
        "import matplotlib.pyplot as plt\n",
        "\n",
        "chipo['item_price'] = chipo['item_price'].replace('[\\$,]', '', regex=True).astype(float)\n",
        "grouped = chipo.groupby('order_id').agg({'quantity': 'sum', 'item_price': 'sum'})\n",
        "\n",
        "plt.scatter(grouped['item_price'], grouped['quantity'])\n",
        "plt.title('Number of Items Ordered per Order Price')\n",
        "plt.xlabel('Order Price ($)')\n",
        "plt.ylabel('Number of Items Ordered')\n",
        "plt.show()"
      ],
      "metadata": {
        "colab": {
          "base_uri": "https://localhost:8080/",
          "height": 472
        },
        "id": "iK7sjMqHuWqk",
        "outputId": "6ee4ccc3-1fea-4161-f9d8-7030eae6c800"
      },
      "execution_count": 31,
      "outputs": [
        {
          "output_type": "display_data",
          "data": {
            "text/plain": [
              "<Figure size 640x480 with 1 Axes>"
            ],
            "image/png": "[encoded data removed]"
          },
          "metadata": {}
        }
      ]
    },
    {
      "cell_type": "markdown",
      "source": [
        "Q5. What was the quantity of the most expensive item ordered?\n"
      ],
      "metadata": {
        "id": "Wa41JywBuXHq"
      }
    },
    {
      "cell_type": "code",
      "source": [
        "most_expensive_order = chipo.loc[chipo['item_price'].idxmax()]\n",
        "most_expensive_quantity = most_expensive_order['quantity']\n",
        "print(f\"Quantity of the most expensive item ordered: {most_expensive_quantity}\")"
      ],
      "metadata": {
        "colab": {
          "base_uri": "https://localhost:8080/"
        },
        "id": "cXezzp7ouY5X",
        "outputId": "d4f27a71-ae9f-4069-f96b-aa5376b4a2ba"
      },
      "execution_count": 36,
      "outputs": [
        {
          "output_type": "stream",
          "name": "stdout",
          "text": [
            "Quantity of the most expensive item ordered: 15\n"
          ]
        }
      ]
    },
    {
      "cell_type": "markdown",
      "source": [
        "Q6. For each item_name print the statistics for item_price.\n"
      ],
      "metadata": {
        "id": "tNrFAg5fuZaN"
      }
    },
    {
      "cell_type": "code",
      "source": [
        "item_price_stats = chipo.groupby('item_name')['item_price'].describe()\n",
        "print(\"Statistics for each item_name:\")\n",
        "print(item_price_stats)"
      ],
      "metadata": {
        "colab": {
          "base_uri": "https://localhost:8080/"
        },
        "id": "lxxuUNR8ubE-",
        "outputId": "6e8806aa-c0b6-428d-9eef-95aac51170b8"
      },
      "execution_count": 39,
      "outputs": [
        {
          "output_type": "stream",
          "name": "stdout",
          "text": [
            "Statistics for each item_name:\n",
            "                                       count       mean           std   min  \\\n",
            "item_name                                                                     \n",
            "6 Pack Soft Drink                       54.0   6.610185  8.831771e-01  6.49   \n",
            "Barbacoa Bowl                           66.0  10.187273  1.260994e+00  8.69   \n",
            "Barbacoa Burrito                        91.0   9.832418  1.139519e+00  8.69   \n",
            "Barbacoa Crispy Tacos                   11.0  10.928182  2.800739e+00  8.99   \n",
            "Barbacoa Salad Bowl                     10.0  10.640000  1.317616e+00  9.39   \n",
            "Barbacoa Soft Tacos                     25.0  10.018400  1.191937e+00  8.99   \n",
            "Bottled Water                          162.0   1.867654  1.547295e+00  1.09   \n",
            "Bowl                                     2.0  14.800000  1.046518e+01  7.40   \n",
            "Burrito                                  6.0   7.400000  9.729507e-16  7.40   \n",
            "Canned Soda                            104.0   1.320577  5.189381e-01  1.09   \n",
            "Canned Soft Drink                      301.0   1.457641  6.195359e-01  1.25   \n",
            "Carnitas Bowl                           68.0  10.833971  3.622600e+00  8.99   \n",
            "Carnitas Burrito                        59.0  10.132712  1.630111e+00  8.69   \n",
            "Carnitas Crispy Tacos                    7.0  11.137143  3.263917e+00  8.99   \n",
            "Carnitas Salad                           1.0   8.990000           NaN  8.99   \n",
            "Carnitas Salad Bowl                      6.0  11.056667  1.290994e+00  9.39   \n",
            "Carnitas Soft Tacos                     40.0   9.398500  6.845082e-01  8.99   \n",
            "Chicken Bowl                           726.0  10.113953  2.489791e+00  8.19   \n",
            "Chicken Burrito                        553.0  10.082857  2.810144e+00  8.19   \n",
            "Chicken Crispy Tacos                    47.0  10.045319  2.260303e+00  8.49   \n",
            "Chicken Salad                            9.0   9.010000  1.121194e+00  8.19   \n",
            "Chicken Salad Bowl                     110.0  11.170455  3.986349e+00  8.75   \n",
            "Chicken Soft Tacos                     115.0   9.635565  2.150383e+00  8.49   \n",
            "Chips                                  211.0   2.342844  6.519250e-01  1.99   \n",
            "Chips and Fresh Tomato Salsa           110.0   3.285091  4.075396e+00  2.29   \n",
            "Chips and Guacamole                    479.0   4.595073  1.206059e+00  3.89   \n",
            "Chips and Mild Fresh Tomato Salsa        1.0   3.000000           NaN  3.00   \n",
            "Chips and Roasted Chili Corn Salsa      22.0   3.084091  6.289421e-01  2.95   \n",
            "Chips and Roasted Chili-Corn Salsa      18.0   2.390000  0.000000e+00  2.39   \n",
            "Chips and Tomatillo Green Chili Salsa   43.0   3.087209  6.285938e-01  2.95   \n",
            "Chips and Tomatillo Red Chili Salsa     48.0   3.072917  5.957258e-01  2.95   \n",
            "Chips and Tomatillo-Green Chili Salsa   31.0   2.544194  5.968572e-01  2.39   \n",
            "Chips and Tomatillo-Red Chili Salsa     20.0   2.987500  1.526413e+00  2.39   \n",
            "Crispy Tacos                             2.0   7.400000  0.000000e+00  7.40   \n",
            "Izze                                    20.0   3.390000  4.556259e-16  3.39   \n",
            "Nantucket Nectar                        27.0   3.641111  9.047241e-01  3.39   \n",
            "Salad                                    2.0   7.400000  0.000000e+00  7.40   \n",
            "Side of Chips                          101.0   1.840594  1.220995e+00  1.69   \n",
            "Steak Bowl                             211.0  10.711801  2.672417e+00  8.69   \n",
            "Steak Burrito                          368.0  10.465842  2.571981e+00  8.69   \n",
            "Steak Crispy Tacos                      35.0  10.209714  1.827732e+00  8.69   \n",
            "Steak Salad                              4.0   8.915000  1.500000e-01  8.69   \n",
            "Steak Salad Bowl                        29.0  11.847931  3.511170e+00  9.39   \n",
            "Steak Soft Tacos                        55.0   9.746364  1.523743e+00  8.99   \n",
            "Veggie Bowl                             85.0  10.211647  1.658164e+00  8.49   \n",
            "Veggie Burrito                          95.0   9.839684  2.795877e+00  8.49   \n",
            "Veggie Crispy Tacos                      1.0   8.490000           NaN  8.49   \n",
            "Veggie Salad                             6.0   8.490000  0.000000e+00  8.49   \n",
            "Veggie Salad Bowl                       18.0  10.138889  1.278275e+00  8.75   \n",
            "Veggie Soft Tacos                        7.0  10.565714  3.090048e+00  8.49   \n",
            "\n",
            "                                          25%    50%    75%    max  \n",
            "item_name                                                           \n",
            "6 Pack Soft Drink                       6.490   6.49   6.49  12.98  \n",
            "Barbacoa Bowl                           9.250   9.25  11.75  11.75  \n",
            "Barbacoa Burrito                        9.250   9.25  11.28  11.75  \n",
            "Barbacoa Crispy Tacos                   9.250   9.25  11.75  18.50  \n",
            "Barbacoa Salad Bowl                     9.390  10.64  11.89  11.89  \n",
            "Barbacoa Soft Tacos                     9.250   9.25  11.75  11.75  \n",
            "Bottled Water                           1.500   1.50   1.50  15.00  \n",
            "Bowl                                   11.100  14.80  18.50  22.20  \n",
            "Burrito                                 7.400   7.40   7.40   7.40  \n",
            "Canned Soda                             1.090   1.09   1.09   4.36  \n",
            "Canned Soft Drink                       1.250   1.25   1.25   5.00  \n",
            "Carnitas Bowl                           9.250   9.25  11.75  35.25  \n",
            "Carnitas Burrito                        9.250   9.25  11.75  18.50  \n",
            "Carnitas Crispy Tacos                   9.120   9.25  11.75  17.98  \n",
            "Carnitas Salad                          8.990   8.99   8.99   8.99  \n",
            "Carnitas Salad Bowl                    10.015  11.89  11.89  11.89  \n",
            "Carnitas Soft Tacos                     9.250   9.25   9.25  11.75  \n",
            "Chicken Bowl                            8.750   8.75  11.25  32.94  \n",
            "Chicken Burrito                         8.750   8.75  11.25  35.00  \n",
            "Chicken Crispy Tacos                    8.750   8.75  11.25  17.50  \n",
            "Chicken Salad                           8.490   8.49   8.49  10.98  \n",
            "Chicken Salad Bowl                      8.750   8.75  11.25  22.50  \n",
            "Chicken Soft Tacos                      8.750   8.75  10.98  21.96  \n",
            "Chips                                   2.150   2.15   2.15   6.45  \n",
            "Chips and Fresh Tomato Salsa            2.390   2.95   2.95  44.25  \n",
            "Chips and Guacamole                     4.450   4.45   4.45  17.80  \n",
            "Chips and Mild Fresh Tomato Salsa       3.000   3.00   3.00   3.00  \n",
            "Chips and Roasted Chili Corn Salsa      2.950   2.95   2.95   5.90  \n",
            "Chips and Roasted Chili-Corn Salsa      2.390   2.39   2.39   2.39  \n",
            "Chips and Tomatillo Green Chili Salsa   2.950   2.95   2.95   5.90  \n",
            "Chips and Tomatillo Red Chili Salsa     2.950   2.95   2.95   5.90  \n",
            "Chips and Tomatillo-Green Chili Salsa   2.390   2.39   2.39   4.78  \n",
            "Chips and Tomatillo-Red Chili Salsa     2.390   2.39   2.39   7.17  \n",
            "Crispy Tacos                            7.400   7.40   7.40   7.40  \n",
            "Izze                                    3.390   3.39   3.39   3.39  \n",
            "Nantucket Nectar                        3.390   3.39   3.39   6.78  \n",
            "Salad                                   7.400   7.40   7.40   7.40  \n",
            "Side of Chips                           1.690   1.69   1.69  13.52  \n",
            "Steak Bowl                              9.250   9.25  11.75  26.07  \n",
            "Steak Burrito                           8.990   9.25  11.75  27.75  \n",
            "Steak Crispy Tacos                      9.120   9.25  11.75  17.98  \n",
            "Steak Salad                             8.915   8.99   8.99   8.99  \n",
            "Steak Salad Bowl                        9.390  11.89  11.89  23.78  \n",
            "Steak Soft Tacos                        9.120   9.25   9.25  18.50  \n",
            "Veggie Bowl                             8.750  11.25  11.25  16.98  \n",
            "Veggie Burrito                          8.490   8.75  11.25  33.75  \n",
            "Veggie Crispy Tacos                     8.490   8.49   8.49   8.49  \n",
            "Veggie Salad                            8.490   8.49   8.49   8.49  \n",
            "Veggie Salad Bowl                       8.750  11.25  11.25  11.25  \n",
            "Veggie Soft Tacos                       8.620   8.75  11.25  16.98  \n"
          ]
        }
      ]
    },
    {
      "cell_type": "markdown",
      "source": [
        "Q7. How many times was a Veggie Salad Bowl ordered?\n"
      ],
      "metadata": {
        "id": "weT4OSxuubtq"
      }
    },
    {
      "cell_type": "code",
      "source": [
        "veggie_salad_bowl_orders = chipo[chipo['item_name'] == 'Veggie Salad Bowl']['quantity'].sum()\n",
        "print(f\"Veggie Salad Bowl ordered: {veggie_salad_bowl_orders} times\")"
      ],
      "metadata": {
        "colab": {
          "base_uri": "https://localhost:8080/"
        },
        "id": "oeb9XgRmudhr",
        "outputId": "c9c649bf-7ca7-4971-ba4e-3212ea85d94e"
      },
      "execution_count": 40,
      "outputs": [
        {
          "output_type": "stream",
          "name": "stdout",
          "text": [
            "Veggie Salad Bowl ordered: 18 times\n"
          ]
        }
      ]
    },
    {
      "cell_type": "markdown",
      "source": [
        "Q8. How many times did someone order more than one Canned Soda?\n"
      ],
      "metadata": {
        "id": "UjHJu5SjueIN"
      }
    },
    {
      "cell_type": "code",
      "source": [
        "canned_soda_orders = chipo[(chipo['item_name'] == 'Canned Soda') & (chipo['quantity'] > 1)].shape[0]\n",
        "print(f\"Number of times more than one Canned Soda was ordered: {canned_soda_orders}\")"
      ],
      "metadata": {
        "colab": {
          "base_uri": "https://localhost:8080/"
        },
        "id": "4X9DMuMEufqf",
        "outputId": "4aa714cc-91c3-4762-a926-91b846ac0232"
      },
      "execution_count": 44,
      "outputs": [
        {
          "output_type": "stream",
          "name": "stdout",
          "text": [
            "Number of times more than one Canned Soda was ordered: 20\n"
          ]
        }
      ]
    },
    {
      "cell_type": "markdown",
      "source": [
        "Q9.How many products cost more than $10.00?\n"
      ],
      "metadata": {
        "id": "y1IbmUAbugRg"
      }
    },
    {
      "cell_type": "code",
      "source": [
        "expensive_items = chipo[chipo['item_price'] > 10.00]\n",
        "num_expensive_items = expensive_items['item_name'].nunique()\n",
        "print(f\"Number of products that cost more than $10.00: {num_expensive_items}\")\n"
      ],
      "metadata": {
        "colab": {
          "base_uri": "https://localhost:8080/"
        },
        "id": "X9EVE6BtuiYt",
        "outputId": "fbda6476-9c12-4a36-b74d-a08c2a7bafa3"
      },
      "execution_count": 45,
      "outputs": [
        {
          "output_type": "stream",
          "name": "stdout",
          "text": [
            "Number of products that cost more than $10.00: 31\n"
          ]
        }
      ]
    },
    {
      "cell_type": "markdown",
      "source": [
        "Q10.Print the mean item_price per item_name"
      ],
      "metadata": {
        "id": "53VY1ainuiwB"
      }
    },
    {
      "cell_type": "code",
      "source": [
        "mean_item_price = chipo.groupby('item_name')['item_price'].mean()\n",
        "print(mean_item_price)"
      ],
      "metadata": {
        "colab": {
          "base_uri": "https://localhost:8080/"
        },
        "id": "LtJcgDkmukH-",
        "outputId": "ab10f12d-f65e-426c-8be9-2f6555a359b5"
      },
      "execution_count": 48,
      "outputs": [
        {
          "output_type": "stream",
          "name": "stdout",
          "text": [
            "item_name\n",
            "6 Pack Soft Drink                         6.610185\n",
            "Barbacoa Bowl                            10.187273\n",
            "Barbacoa Burrito                          9.832418\n",
            "Barbacoa Crispy Tacos                    10.928182\n",
            "Barbacoa Salad Bowl                      10.640000\n",
            "Barbacoa Soft Tacos                      10.018400\n",
            "Bottled Water                             1.867654\n",
            "Bowl                                     14.800000\n",
            "Burrito                                   7.400000\n",
            "Canned Soda                               1.320577\n",
            "Canned Soft Drink                         1.457641\n",
            "Carnitas Bowl                            10.833971\n",
            "Carnitas Burrito                         10.132712\n",
            "Carnitas Crispy Tacos                    11.137143\n",
            "Carnitas Salad                            8.990000\n",
            "Carnitas Salad Bowl                      11.056667\n",
            "Carnitas Soft Tacos                       9.398500\n",
            "Chicken Bowl                             10.113953\n",
            "Chicken Burrito                          10.082857\n",
            "Chicken Crispy Tacos                     10.045319\n",
            "Chicken Salad                             9.010000\n",
            "Chicken Salad Bowl                       11.170455\n",
            "Chicken Soft Tacos                        9.635565\n",
            "Chips                                     2.342844\n",
            "Chips and Fresh Tomato Salsa              3.285091\n",
            "Chips and Guacamole                       4.595073\n",
            "Chips and Mild Fresh Tomato Salsa         3.000000\n",
            "Chips and Roasted Chili Corn Salsa        3.084091\n",
            "Chips and Roasted Chili-Corn Salsa        2.390000\n",
            "Chips and Tomatillo Green Chili Salsa     3.087209\n",
            "Chips and Tomatillo Red Chili Salsa       3.072917\n",
            "Chips and Tomatillo-Green Chili Salsa     2.544194\n",
            "Chips and Tomatillo-Red Chili Salsa       2.987500\n",
            "Crispy Tacos                              7.400000\n",
            "Izze                                      3.390000\n",
            "Nantucket Nectar                          3.641111\n",
            "Salad                                     7.400000\n",
            "Side of Chips                             1.840594\n",
            "Steak Bowl                               10.711801\n",
            "Steak Burrito                            10.465842\n",
            "Steak Crispy Tacos                       10.209714\n",
            "Steak Salad                               8.915000\n",
            "Steak Salad Bowl                         11.847931\n",
            "Steak Soft Tacos                          9.746364\n",
            "Veggie Bowl                              10.211647\n",
            "Veggie Burrito                            9.839684\n",
            "Veggie Crispy Tacos                       8.490000\n",
            "Veggie Salad                              8.490000\n",
            "Veggie Salad Bowl                        10.138889\n",
            "Veggie Soft Tacos                        10.565714\n",
            "Name: item_price, dtype: float64\n"
          ]
        }
      ]
    },
    {
      "cell_type": "code",
      "source": [
        "mean_item_price"
      ],
      "metadata": {
        "colab": {
          "base_uri": "https://localhost:8080/",
          "height": 1000
        },
        "id": "f4swqaP30lyk",
        "outputId": "27515d91-b845-4ae4-b6da-aa24ff110899"
      },
      "execution_count": 49,
      "outputs": [
        {
          "output_type": "execute_result",
          "data": {
            "text/plain": [
              "item_name\n",
              "6 Pack Soft Drink                         6.610185\n",
              "Barbacoa Bowl                            10.187273\n",
              "Barbacoa Burrito                          9.832418\n",
              "Barbacoa Crispy Tacos                    10.928182\n",
              "Barbacoa Salad Bowl                      10.640000\n",
              "Barbacoa Soft Tacos                      10.018400\n",
              "Bottled Water                             1.867654\n",
              "Bowl                                     14.800000\n",
              "Burrito                                   7.400000\n",
              "Canned Soda                               1.320577\n",
              "Canned Soft Drink                         1.457641\n",
              "Carnitas Bowl                            10.833971\n",
              "Carnitas Burrito                         10.132712\n",
              "Carnitas Crispy Tacos                    11.137143\n",
              "Carnitas Salad                            8.990000\n",
              "Carnitas Salad Bowl                      11.056667\n",
              "Carnitas Soft Tacos                       9.398500\n",
              "Chicken Bowl                             10.113953\n",
              "Chicken Burrito                          10.082857\n",
              "Chicken Crispy Tacos                     10.045319\n",
              "Chicken Salad                             9.010000\n",
              "Chicken Salad Bowl                       11.170455\n",
              "Chicken Soft Tacos                        9.635565\n",
              "Chips                                     2.342844\n",
              "Chips and Fresh Tomato Salsa              3.285091\n",
              "Chips and Guacamole                       4.595073\n",
              "Chips and Mild Fresh Tomato Salsa         3.000000\n",
              "Chips and Roasted Chili Corn Salsa        3.084091\n",
              "Chips and Roasted Chili-Corn Salsa        2.390000\n",
              "Chips and Tomatillo Green Chili Salsa     3.087209\n",
              "Chips and Tomatillo Red Chili Salsa       3.072917\n",
              "Chips and Tomatillo-Green Chili Salsa     2.544194\n",
              "Chips and Tomatillo-Red Chili Salsa       2.987500\n",
              "Crispy Tacos                              7.400000\n",
              "Izze                                      3.390000\n",
              "Nantucket Nectar                          3.641111\n",
              "Salad                                     7.400000\n",
              "Side of Chips                             1.840594\n",
              "Steak Bowl                               10.711801\n",
              "Steak Burrito                            10.465842\n",
              "Steak Crispy Tacos                       10.209714\n",
              "Steak Salad                               8.915000\n",
              "Steak Salad Bowl                         11.847931\n",
              "Steak Soft Tacos                          9.746364\n",
              "Veggie Bowl                              10.211647\n",
              "Veggie Burrito                            9.839684\n",
              "Veggie Crispy Tacos                       8.490000\n",
              "Veggie Salad                              8.490000\n",
              "Veggie Salad Bowl                        10.138889\n",
              "Veggie Soft Tacos                        10.565714\n",
              "Name: item_price, dtype: float64"
            ],
            "text/html": [
              "<div>\n",
              "<style scoped>\n",
              "    .dataframe tbody tr th:only-of-type {\n",
              "        vertical-align: middle;\n",
              "    }\n",
              "\n",
              "    .dataframe tbody tr th {\n",
              "        vertical-align: top;\n",
              "    }\n",
              "\n",
              "    .dataframe thead th {\n",
              "        text-align: right;\n",
              "    }\n",
              "</style>\n",
              "<table border=\"1\" class=\"dataframe\">\n",
              "  <thead>\n",
              "    <tr style=\"text-align: right;\">\n",
              "      <th></th>\n",
              "      <th>item_price</th>\n",
              "    </tr>\n",
              "    <tr>\n",
              "      <th>item_name</th>\n",
              "      <th></th>\n",
              "    </tr>\n",
              "  </thead>\n",
              "  <tbody>\n",
              "    <tr>\n",
              "      <th>6 Pack Soft Drink</th>\n",
              "      <td>6.610185</td>\n",
              "    </tr>\n",
              "    <tr>\n",
              "      <th>Barbacoa Bowl</th>\n",
              "      <td>10.187273</td>\n",
              "    </tr>\n",
              "    <tr>\n",
              "      <th>Barbacoa Burrito</th>\n",
              "      <td>9.832418</td>\n",
              "    </tr>\n",
              "    <tr>\n",
              "      <th>Barbacoa Crispy Tacos</th>\n",
              "      <td>10.928182</td>\n",
              "    </tr>\n",
              "    <tr>\n",
              "      <th>Barbacoa Salad Bowl</th>\n",
              "      <td>10.640000</td>\n",
              "    </tr>\n",
              "    <tr>\n",
              "      <th>Barbacoa Soft Tacos</th>\n",
              "      <td>10.018400</td>\n",
              "    </tr>\n",
              "    <tr>\n",
              "      <th>Bottled Water</th>\n",
              "      <td>1.867654</td>\n",
              "    </tr>\n",
              "    <tr>\n",
              "      <th>Bowl</th>\n",
              "      <td>14.800000</td>\n",
              "    </tr>\n",
              "    <tr>\n",
              "      <th>Burrito</th>\n",
              "      <td>7.400000</td>\n",
              "    </tr>\n",
              "    <tr>\n",
              "      <th>Canned Soda</th>\n",
              "      <td>1.320577</td>\n",
              "    </tr>\n",
              "    <tr>\n",
              "      <th>Canned Soft Drink</th>\n",
              "      <td>1.457641</td>\n",
              "    </tr>\n",
              "    <tr>\n",
              "      <th>Carnitas Bowl</th>\n",
              "      <td>10.833971</td>\n",
              "    </tr>\n",
              "    <tr>\n",
              "      <th>Carnitas Burrito</th>\n",
              "      <td>10.132712</td>\n",
              "    </tr>\n",
              "    <tr>\n",
              "      <th>Carnitas Crispy Tacos</th>\n",
              "      <td>11.137143</td>\n",
              "    </tr>\n",
              "    <tr>\n",
              "      <th>Carnitas Salad</th>\n",
              "      <td>8.990000</td>\n",
              "    </tr>\n",
              "    <tr>\n",
              "      <th>Carnitas Salad Bowl</th>\n",
              "      <td>11.056667</td>\n",
              "    </tr>\n",
              "    <tr>\n",
              "      <th>Carnitas Soft Tacos</th>\n",
              "      <td>9.398500</td>\n",
              "    </tr>\n",
              "    <tr>\n",
              "      <th>Chicken Bowl</th>\n",
              "      <td>10.113953</td>\n",
              "    </tr>\n",
              "    <tr>\n",
              "      <th>Chicken Burrito</th>\n",
              "      <td>10.082857</td>\n",
              "    </tr>\n",
              "    <tr>\n",
              "      <th>Chicken Crispy Tacos</th>\n",
              "      <td>10.045319</td>\n",
              "    </tr>\n",
              "    <tr>\n",
              "      <th>Chicken Salad</th>\n",
              "      <td>9.010000</td>\n",
              "    </tr>\n",
              "    <tr>\n",
              "      <th>Chicken Salad Bowl</th>\n",
              "      <td>11.170455</td>\n",
              "    </tr>\n",
              "    <tr>\n",
              "      <th>Chicken Soft Tacos</th>\n",
              "      <td>9.635565</td>\n",
              "    </tr>\n",
              "    <tr>\n",
              "      <th>Chips</th>\n",
              "      <td>2.342844</td>\n",
              "    </tr>\n",
              "    <tr>\n",
              "      <th>Chips and Fresh Tomato Salsa</th>\n",
              "      <td>3.285091</td>\n",
              "    </tr>\n",
              "    <tr>\n",
              "      <th>Chips and Guacamole</th>\n",
              "      <td>4.595073</td>\n",
              "    </tr>\n",
              "    <tr>\n",
              "      <th>Chips and Mild Fresh Tomato Salsa</th>\n",
              "      <td>3.000000</td>\n",
              "    </tr>\n",
              "    <tr>\n",
              "      <th>Chips and Roasted Chili Corn Salsa</th>\n",
              "      <td>3.084091</td>\n",
              "    </tr>\n",
              "    <tr>\n",
              "      <th>Chips and Roasted Chili-Corn Salsa</th>\n",
              "      <td>2.390000</td>\n",
              "    </tr>\n",
              "    <tr>\n",
              "      <th>Chips and Tomatillo Green Chili Salsa</th>\n",
              "      <td>3.087209</td>\n",
              "    </tr>\n",
              "    <tr>\n",
              "      <th>Chips and Tomatillo Red Chili Salsa</th>\n",
              "      <td>3.072917</td>\n",
              "    </tr>\n",
              "    <tr>\n",
              "      <th>Chips and Tomatillo-Green Chili Salsa</th>\n",
              "      <td>2.544194</td>\n",
              "    </tr>\n",
              "    <tr>\n",
              "      <th>Chips and Tomatillo-Red Chili Salsa</th>\n",
              "      <td>2.987500</td>\n",
              "    </tr>\n",
              "    <tr>\n",
              "      <th>Crispy Tacos</th>\n",
              "      <td>7.400000</td>\n",
              "    </tr>\n",
              "    <tr>\n",
              "      <th>Izze</th>\n",
              "      <td>3.390000</td>\n",
              "    </tr>\n",
              "    <tr>\n",
              "      <th>Nantucket Nectar</th>\n",
              "      <td>3.641111</td>\n",
              "    </tr>\n",
              "    <tr>\n",
              "      <th>Salad</th>\n",
              "      <td>7.400000</td>\n",
              "    </tr>\n",
              "    <tr>\n",
              "      <th>Side of Chips</th>\n",
              "      <td>1.840594</td>\n",
              "    </tr>\n",
              "    <tr>\n",
              "      <th>Steak Bowl</th>\n",
              "      <td>10.711801</td>\n",
              "    </tr>\n",
              "    <tr>\n",
              "      <th>Steak Burrito</th>\n",
              "      <td>10.465842</td>\n",
              "    </tr>\n",
              "    <tr>\n",
              "      <th>Steak Crispy Tacos</th>\n",
              "      <td>10.209714</td>\n",
              "    </tr>\n",
              "    <tr>\n",
              "      <th>Steak Salad</th>\n",
              "      <td>8.915000</td>\n",
              "    </tr>\n",
              "    <tr>\n",
              "      <th>Steak Salad Bowl</th>\n",
              "      <td>11.847931</td>\n",
              "    </tr>\n",
              "    <tr>\n",
              "      <th>Steak Soft Tacos</th>\n",
              "      <td>9.746364</td>\n",
              "    </tr>\n",
              "    <tr>\n",
              "      <th>Veggie Bowl</th>\n",
              "      <td>10.211647</td>\n",
              "    </tr>\n",
              "    <tr>\n",
              "      <th>Veggie Burrito</th>\n",
              "      <td>9.839684</td>\n",
              "    </tr>\n",
              "    <tr>\n",
              "      <th>Veggie Crispy Tacos</th>\n",
              "      <td>8.490000</td>\n",
              "    </tr>\n",
              "    <tr>\n",
              "      <th>Veggie Salad</th>\n",
              "      <td>8.490000</td>\n",
              "    </tr>\n",
              "    <tr>\n",
              "      <th>Veggie Salad Bowl</th>\n",
              "      <td>10.138889</td>\n",
              "    </tr>\n",
              "    <tr>\n",
              "      <th>Veggie Soft Tacos</th>\n",
              "      <td>10.565714</td>\n",
              "    </tr>\n",
              "  </tbody>\n",
              "</table>\n",
              "</div><br><label><b>dtype:</b> float64</label>"
            ]
          },
          "metadata": {},
          "execution_count": 49
        }
      ]
    },
    {
      "cell_type": "markdown",
      "source": [
        "END"
      ],
      "metadata": {
        "id": "lLyasFqnukoL"
      }
    }
  ]
}